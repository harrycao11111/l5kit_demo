version https://git-lfs.github.com/spec/v1
oid sha256:da10f315303323b9bed3a6dd5ba5568690ed1f38297f0e86228adf6e27bc9fab
size 13592
